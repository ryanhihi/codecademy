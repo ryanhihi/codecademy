{
 "cells": [
  {
   "cell_type": "code",
   "execution_count": null,
   "metadata": {},
   "outputs": [],
   "source": [
    "using System;\n",
    "\n",
    "namespace CaesarCipher\n",
    "{\n",
    "  class Program\n",
    "  {\n",
    "    static void Main(string[] args)\n",
    "    {\n",
    "      char[] alphabet = new char[] {'a', 'b', 'c', 'd', 'e', 'f', 'g', 'h', 'i', 'j', 'k', 'l', 'm', 'n', 'o', 'p', 'q', 'r', 's', 't', 'u', 'v', 'w', 'x', 'y', 'z'};\n",
    "      \n",
    "      Console.WriteLine(\"Write the message to convert: \");\n",
    "      string message = Console.ReadLine();\n",
    "\n",
    "      char[] secretMessage = message.ToCharArray();\n",
    "\n",
    "      char[] encryptedMessage = new char[secretMessage.Length];\n",
    "      \n",
    "      for (int i=0; i<secretMessage.Length; i++){\n",
    "        char letter = secretMessage[i];\n",
    "        int index = (Array.IndexOf(alphabet, secretMessage[i]) +3)%26;\n",
    "\n",
    "        char encryptedChar =alphabet[index];\n",
    "\n",
    "        encryptedMessage[i] = encryptedChar;\n",
    "\n",
    "      }\n",
    "\n",
    "      String.Join(\" \", encryptedMessage);\n",
    "\n",
    "      Console.WriteLine(String.Join(\" \", encryptedMessage));\n",
    "    }\n",
    "  }\n",
    "}"
   ]
  }
 ],
 "metadata": {
  "language_info": {
   "name": "python"
  },
  "orig_nbformat": 4
 },
 "nbformat": 4,
 "nbformat_minor": 2
}
